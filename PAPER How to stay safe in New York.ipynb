{
 "cells": [
  {
   "cell_type": "markdown",
   "metadata": {},
   "source": [
    "# How to stay safe in New York?"
   ]
  },
  {
   "cell_type": "markdown",
   "metadata": {},
   "source": [
    "This project looks at the evolution of complaints reported to the police in New York during the last year (from July 2018 until June 2019).\n",
    "The goal is to analyze the data in order to find out how to stay safe in a big town like New York."
   ]
  },
  {
   "cell_type": "markdown",
   "metadata": {},
   "source": [
    "## 1. Questions"
   ]
  },
  {
   "cell_type": "markdown",
   "metadata": {},
   "source": [
    "The questions I want to answer are:\n",
    "\n",
    "- In which district are there the most complaints?\n",
    "\n",
    "- What are the characteristics of people the most at risk?\n",
    "\n",
    "- At what time are there more complaints?\n",
    "\n",
    "- Is there any correlation between poverty and the amount of complaints made?"
   ]
  },
  {
   "cell_type": "markdown",
   "metadata": {},
   "source": [
    "## 2. Dataset used"
   ]
  },
  {
   "cell_type": "markdown",
   "metadata": {},
   "source": [
    "The dataset I used comes from the Open Data website of New York City Police Department (NYPD).\n",
    "\n",
    "It is named \"Incident Level Complaint Data - current year through most recent full quarter\" and it  was downloaded from the following webpage: https://www1.nyc.gov/site/nypd/stats/crime-statistics/citywide-crime-stats.page\n",
    "\n",
    "The data spans one year from July 2018 until June 2019.\n",
    "\n",
    "\n",
    "For the last question I completed the dataset with some information about the poverty by ethnical background (from the following link https://statisticalatlas.com/place/New-York/New-York/Race-and-Ethnicity#figure/race-and-ethnicity) and I also used the data of poverty as a function of ethnical background in New York City (found on the following link: https://www1.nyc.gov/assets/opportunity/pdf/NYCPov-Brochure-2018-Digital.pdf)"
   ]
  },
  {
   "cell_type": "markdown",
   "metadata": {},
   "source": [
    "## 3. Data analysis"
   ]
  },
  {
   "cell_type": "markdown",
   "metadata": {},
   "source": [
    "After being cleaned the data has been analyzed to find the answers to the various questions I had."
   ]
  },
  {
   "cell_type": "markdown",
   "metadata": {},
   "source": [
    "### 3.1 In which district are there the most complaints?"
   ]
  },
  {
   "cell_type": "markdown",
   "metadata": {},
   "source": [
    "By calculating the amount of complaints by district I found the following results:\n",
    "\n",
    "\n",
    "\n",
    "![complaints_district](images/complaints_districts.png \"Complaints by district\")\n"
   ]
  },
  {
   "cell_type": "markdown",
   "metadata": {},
   "source": [
    "We can see that the maximum amount of complaints is Brooklyn, Manhattan and the Bronx followed by Queens and Staten Island. \n",
    "\n",
    "It is very clear that the safest district to stay in new York is in Staten Island. In order to confirm this we can plot a heatmap showing the density of complaints in New York as shown in the next image:\n",
    "\n",
    "\n",
    "\n",
    "![complaints_heatmap](images/complaints_heatmap.png \"Complaints by district - heatmap\")"
   ]
  },
  {
   "cell_type": "markdown",
   "metadata": {},
   "source": [
    "### 3.2 What are the characteristics of people the most at risk?"
   ]
  },
  {
   "cell_type": "markdown",
   "metadata": {},
   "source": [
    "The complaints have been grouped by the sex of the victims and the result is shown below:\n",
    "\n",
    "![complaints_victim_sex](images/complaints_victim_sex.png \"Complaints by sex victim\")"
   ]
  },
  {
   "cell_type": "markdown",
   "metadata": {},
   "source": [
    "We can see that women are more often vicitms than men. What about the ethnic background of the victims. You can see the result in the graph below:\n",
    "\n",
    "\n",
    "![complaints_victim_ethnic](images/complaints_victim_ethnic.png \"Complaints by victim ethnical background\")"
   ]
  },
  {
   "cell_type": "markdown",
   "metadata": {},
   "source": [
    "### 3.3  At what time are there more complaints?"
   ]
  },
  {
   "cell_type": "markdown",
   "metadata": {},
   "source": [
    "We can have a look at the hours of the day when there are the maximum amount of complaints. You can see the result below:\n",
    "\n",
    "\n",
    "![complaints_hour](images/complaints_hour.png \"Complaints by hour\")"
   ]
  },
  {
   "cell_type": "markdown",
   "metadata": {},
   "source": [
    "We can see that most of the complaints are happening between 15h and 18h.\n",
    "\n",
    "We can also have a look at which days has the largest amount of complaints. You can see the result below:\n",
    "\n",
    "\n",
    "\n",
    "![complaints_day](images/complaints_day.png \"Complaints by day\")"
   ]
  },
  {
   "cell_type": "markdown",
   "metadata": {},
   "source": [
    "There is not a particular influence of the day of the week on the number of complaints. Friday is the day with the most complaints but there is no particular day with a big difference in the amount of complaints."
   ]
  },
  {
   "cell_type": "markdown",
   "metadata": {},
   "source": [
    "### 3.4 - Is there any correlation between poverty and the amount of complaints made?"
   ]
  },
  {
   "cell_type": "markdown",
   "metadata": {},
   "source": [
    "One of the questions I wanted to answer was to see whether there is an influence of poverty on the amount of complaints.\n",
    "\n",
    "In order to do so I completed the dataset with some information about the poverty by ethnical background and I also used the data of poverty as a function of ethnical background in New York City.\n",
    "\n",
    "\n",
    "![complaints_poverty](images/complaints_poverty.png \"Complaints vs poverty\")\n"
   ]
  },
  {
   "cell_type": "markdown",
   "metadata": {},
   "source": [
    "This graph shows on the x axis the amount of people in poverty for 10 000 people in function of the ethnic background. On the y axis it shows the number suspects of complaints by ethnic background for 10 000 complaints.\n",
    "\n",
    "\n",
    "There seems to be a correlation if you only look at Asian, White and Hispanic ethnic background. But for this you would need to exclude the point from Afro american. Therefore there is no correlation between poverty and the suspects of complaints.\n",
    "\n",
    "It makes sense as there can be many factors involved in people behaving in ways that are against the law. One might think about factors such as education, the environment where people live, gang culture, personal reasons (psychological problems for example)"
   ]
  },
  {
   "cell_type": "markdown",
   "metadata": {},
   "source": [
    "### 3.5 - Are people with an Afro-american background more likely to be victims?"
   ]
  },
  {
   "cell_type": "markdown",
   "metadata": {},
   "source": [
    "In order to answer this question we will calculate the ratio of Afro-american people that are victims (compared to the total Afro-american population of New York) and compare it to the ratio for the population that is not Afro-american.\n",
    "\n",
    "The population of afro-american and non afro-americans in New York is as follows \n",
    "Note: This data was obtained from the following census information for 2018\n",
    "https://www1.nyc.gov/site/planning/planning-level/nyc-population/current-future-populations.page \n",
    "\n",
    "Total New York population: 8398748 <br>\n",
    "Afro-american population: 2049295 <br>\n",
    "Non Afro-american population: 6349453 <br>\n",
    "\n",
    "\n",
    "The amount of vicitms (between June 2018 and June 2019) is as follows <br>\n",
    "Total victims: 155464 <br>\n",
    "Afro american victims: 56314 <br>\n",
    "Non Afro american victims:  99150 <br>\n",
    "\n",
    "\n",
    "Therefore the ratios for afro-american and non afro-americans are as follows:<br>\n",
    "Afro american victims ratio = 2,75% <br>\n",
    "Non Afro american victims ratio = 1,56% <br>\n",
    "\n",
    "The difference is quite large and it shows that during that time the proportion of Afro-americans being a victim is larger compared to the rest of the population.<br>\n",
    "This conclusion is only for the period betweenJune 2018 and June 2019. In order to see if this is a tendency we would need to repeat the calculation for other years."
   ]
  },
  {
   "cell_type": "markdown",
   "metadata": {},
   "source": [
    "## Litterature\n",
    "\n",
    "Find below some articles that are related to crime analysis in New York or Chicago\n",
    "\n",
    "https://nycdatascience.com/blog/student-works/crime-and-demographics-in-new-york-city/\n",
    "\n",
    "https://www.datasciencecentral.com/profiles/blogs/7-sins-in-nyc\n",
    "https://www.kaggle.com/djonafegnem/chicago-crime-data-analysis"
   ]
  }
 ],
 "metadata": {
  "kernelspec": {
   "display_name": "Python 3",
   "language": "python",
   "name": "python3"
  },
  "language_info": {
   "codemirror_mode": {
    "name": "ipython",
    "version": 3
   },
   "file_extension": ".py",
   "mimetype": "text/x-python",
   "name": "python",
   "nbconvert_exporter": "python",
   "pygments_lexer": "ipython3",
   "version": "3.7.3"
  }
 },
 "nbformat": 4,
 "nbformat_minor": 2
}
