{
 "cells": [
  {
   "cell_type": "code",
   "execution_count": 34,
   "metadata": {},
   "outputs": [],
   "source": [
    "# import libraries\n",
    "import numpy as np\n",
    "import pandas as pd\n",
    "import matplotlib.pyplot as plt\n",
    "import seaborn as sns"
   ]
  },
  {
   "cell_type": "code",
   "execution_count": 19,
   "metadata": {},
   "outputs": [
    {
     "data": {
      "text/html": [
       "<div>\n",
       "<style scoped>\n",
       "    .dataframe tbody tr th:only-of-type {\n",
       "        vertical-align: middle;\n",
       "    }\n",
       "\n",
       "    .dataframe tbody tr th {\n",
       "        vertical-align: top;\n",
       "    }\n",
       "\n",
       "    .dataframe thead th {\n",
       "        text-align: right;\n",
       "    }\n",
       "</style>\n",
       "<table border=\"1\" class=\"dataframe\">\n",
       "  <thead>\n",
       "    <tr style=\"text-align: right;\">\n",
       "      <th></th>\n",
       "      <th>Address_precinct</th>\n",
       "      <th>Hood</th>\n",
       "      <th>Complaint_date</th>\n",
       "      <th>Complaint_time</th>\n",
       "      <th>Key_code</th>\n",
       "      <th>Offense_level</th>\n",
       "      <th>Offense_desc</th>\n",
       "      <th>Suspect_age</th>\n",
       "      <th>Suspect_race</th>\n",
       "      <th>Suspect_sex</th>\n",
       "      <th>Victim_age</th>\n",
       "      <th>Victim_race</th>\n",
       "      <th>Victim_sex</th>\n",
       "      <th>Latitude</th>\n",
       "      <th>Longitude</th>\n",
       "      <th>Lat_Lon</th>\n",
       "    </tr>\n",
       "  </thead>\n",
       "  <tbody>\n",
       "    <tr>\n",
       "      <th>0</th>\n",
       "      <td>48.0</td>\n",
       "      <td>BRONX</td>\n",
       "      <td>2019-06-25 00:00:00</td>\n",
       "      <td>2019-07-28 14:15:00</td>\n",
       "      <td>578</td>\n",
       "      <td>VIOLATION</td>\n",
       "      <td>HARRASSMENT 2</td>\n",
       "      <td>UNKNOWN</td>\n",
       "      <td>BLACK</td>\n",
       "      <td>M</td>\n",
       "      <td>25-44</td>\n",
       "      <td>BLACK</td>\n",
       "      <td>F</td>\n",
       "      <td>40.853355</td>\n",
       "      <td>-73.881668</td>\n",
       "      <td>(40.85335545600003, -73.88166837799997)</td>\n",
       "    </tr>\n",
       "    <tr>\n",
       "      <th>1</th>\n",
       "      <td>14.0</td>\n",
       "      <td>MANHATTAN</td>\n",
       "      <td>2019-06-25 00:00:00</td>\n",
       "      <td>2019-07-28 13:55:00</td>\n",
       "      <td>341</td>\n",
       "      <td>MISDEMEANOR</td>\n",
       "      <td>PETIT LARCENY</td>\n",
       "      <td>45-64</td>\n",
       "      <td>BLACK</td>\n",
       "      <td>M</td>\n",
       "      <td>UNKNOWN</td>\n",
       "      <td>UNKNOWN</td>\n",
       "      <td>D</td>\n",
       "      <td>40.750431</td>\n",
       "      <td>-73.989282</td>\n",
       "      <td>(40.75043076800005, -73.98928217599996)</td>\n",
       "    </tr>\n",
       "    <tr>\n",
       "      <th>2</th>\n",
       "      <td>18.0</td>\n",
       "      <td>MANHATTAN</td>\n",
       "      <td>2019-06-25 00:00:00</td>\n",
       "      <td>2019-07-28 13:20:00</td>\n",
       "      <td>344</td>\n",
       "      <td>MISDEMEANOR</td>\n",
       "      <td>ASSAULT 3 &amp; RELATED OFFENSES</td>\n",
       "      <td>NaN</td>\n",
       "      <td>NaN</td>\n",
       "      <td>NaN</td>\n",
       "      <td>45-64</td>\n",
       "      <td>WHITE</td>\n",
       "      <td>M</td>\n",
       "      <td>40.761677</td>\n",
       "      <td>-73.974917</td>\n",
       "      <td>(40.761676504000036, -73.97491700299997)</td>\n",
       "    </tr>\n",
       "    <tr>\n",
       "      <th>3</th>\n",
       "      <td>52.0</td>\n",
       "      <td>BRONX</td>\n",
       "      <td>2019-06-25 00:00:00</td>\n",
       "      <td>2019-07-28 13:20:00</td>\n",
       "      <td>104</td>\n",
       "      <td>FELONY</td>\n",
       "      <td>RAPE</td>\n",
       "      <td>45-64</td>\n",
       "      <td>BLACK HISPANIC</td>\n",
       "      <td>M</td>\n",
       "      <td>25-44</td>\n",
       "      <td>WHITE HISPANIC</td>\n",
       "      <td>F</td>\n",
       "      <td>40.869059</td>\n",
       "      <td>-73.879630</td>\n",
       "      <td>(40.86905853200005, -73.87963014799993)</td>\n",
       "    </tr>\n",
       "    <tr>\n",
       "      <th>4</th>\n",
       "      <td>19.0</td>\n",
       "      <td>MANHATTAN</td>\n",
       "      <td>2019-06-25 00:00:00</td>\n",
       "      <td>2019-07-28 13:20:00</td>\n",
       "      <td>578</td>\n",
       "      <td>VIOLATION</td>\n",
       "      <td>HARRASSMENT 2</td>\n",
       "      <td>25-44</td>\n",
       "      <td>BLACK</td>\n",
       "      <td>M</td>\n",
       "      <td>45-64</td>\n",
       "      <td>BLACK</td>\n",
       "      <td>M</td>\n",
       "      <td>40.783426</td>\n",
       "      <td>-73.949163</td>\n",
       "      <td>(40.78342557000008, -73.94916258199999)</td>\n",
       "    </tr>\n",
       "  </tbody>\n",
       "</table>\n",
       "</div>"
      ],
      "text/plain": [
       "   Address_precinct       Hood       Complaint_date       Complaint_time  \\\n",
       "0              48.0      BRONX  2019-06-25 00:00:00  2019-07-28 14:15:00   \n",
       "1              14.0  MANHATTAN  2019-06-25 00:00:00  2019-07-28 13:55:00   \n",
       "2              18.0  MANHATTAN  2019-06-25 00:00:00  2019-07-28 13:20:00   \n",
       "3              52.0      BRONX  2019-06-25 00:00:00  2019-07-28 13:20:00   \n",
       "4              19.0  MANHATTAN  2019-06-25 00:00:00  2019-07-28 13:20:00   \n",
       "\n",
       "   Key_code Offense_level                  Offense_desc Suspect_age  \\\n",
       "0       578     VIOLATION                 HARRASSMENT 2     UNKNOWN   \n",
       "1       341   MISDEMEANOR                 PETIT LARCENY       45-64   \n",
       "2       344   MISDEMEANOR  ASSAULT 3 & RELATED OFFENSES         NaN   \n",
       "3       104        FELONY                          RAPE       45-64   \n",
       "4       578     VIOLATION                 HARRASSMENT 2       25-44   \n",
       "\n",
       "     Suspect_race Suspect_sex Victim_age     Victim_race Victim_sex  \\\n",
       "0           BLACK           M      25-44           BLACK          F   \n",
       "1           BLACK           M    UNKNOWN         UNKNOWN          D   \n",
       "2             NaN         NaN      45-64           WHITE          M   \n",
       "3  BLACK HISPANIC           M      25-44  WHITE HISPANIC          F   \n",
       "4           BLACK           M      45-64           BLACK          M   \n",
       "\n",
       "    Latitude  Longitude                                   Lat_Lon  \n",
       "0  40.853355 -73.881668   (40.85335545600003, -73.88166837799997)  \n",
       "1  40.750431 -73.989282   (40.75043076800005, -73.98928217599996)  \n",
       "2  40.761677 -73.974917  (40.761676504000036, -73.97491700299997)  \n",
       "3  40.869059 -73.879630   (40.86905853200005, -73.87963014799993)  \n",
       "4  40.783426 -73.949163   (40.78342557000008, -73.94916258199999)  "
      ]
     },
     "execution_count": 19,
     "metadata": {},
     "output_type": "execute_result"
    }
   ],
   "source": [
    "# Import the complaints.csv file created after cleaning the data\n",
    "complaints = pd.read_csv(\"complaints.csv\", index_col=0)\n",
    "complaints.head()"
   ]
  },
  {
   "cell_type": "code",
   "execution_count": null,
   "metadata": {},
   "outputs": [],
   "source": []
  },
  {
   "cell_type": "code",
   "execution_count": 20,
   "metadata": {},
   "outputs": [
    {
     "data": {
      "text/plain": [
       "array(['BRONX', 'MANHATTAN', 'BROOKLYN', 'QUEENS', 'STATEN ISLAND', nan],\n",
       "      dtype=object)"
      ]
     },
     "execution_count": 20,
     "metadata": {},
     "output_type": "execute_result"
    }
   ],
   "source": [
    "# Check the composition of the Hood column\n",
    "complaints.Hood.unique()"
   ]
  },
  {
   "cell_type": "code",
   "execution_count": 21,
   "metadata": {},
   "outputs": [],
   "source": [
    "# Create a complaints_hood dataframe where the NaN's in Hood column are removed\n",
    "complaints_hood = complaints.dropna(subset=[\"Hood\"])"
   ]
  },
  {
   "cell_type": "code",
   "execution_count": 45,
   "metadata": {},
   "outputs": [
    {
     "data": {
      "text/html": [
       "<div>\n",
       "<style scoped>\n",
       "    .dataframe tbody tr th:only-of-type {\n",
       "        vertical-align: middle;\n",
       "    }\n",
       "\n",
       "    .dataframe tbody tr th {\n",
       "        vertical-align: top;\n",
       "    }\n",
       "\n",
       "    .dataframe thead th {\n",
       "        text-align: right;\n",
       "    }\n",
       "</style>\n",
       "<table border=\"1\" class=\"dataframe\">\n",
       "  <thead>\n",
       "    <tr style=\"text-align: right;\">\n",
       "      <th></th>\n",
       "      <th>Address_precinct</th>\n",
       "      <th>Hood</th>\n",
       "      <th>Complaint_date</th>\n",
       "      <th>Complaint_time</th>\n",
       "      <th>Key_code</th>\n",
       "      <th>Offense_level</th>\n",
       "      <th>Offense_desc</th>\n",
       "      <th>Suspect_age</th>\n",
       "      <th>Suspect_race</th>\n",
       "      <th>Suspect_sex</th>\n",
       "      <th>Victim_age</th>\n",
       "      <th>Victim_race</th>\n",
       "      <th>Victim_sex</th>\n",
       "      <th>Latitude</th>\n",
       "      <th>Longitude</th>\n",
       "      <th>Lat_Lon</th>\n",
       "    </tr>\n",
       "  </thead>\n",
       "  <tbody>\n",
       "    <tr>\n",
       "      <th>0</th>\n",
       "      <td>48.0</td>\n",
       "      <td>BRONX</td>\n",
       "      <td>2019-06-25 00:00:00</td>\n",
       "      <td>2019-07-28 14:15:00</td>\n",
       "      <td>578</td>\n",
       "      <td>VIOLATION</td>\n",
       "      <td>HARRASSMENT 2</td>\n",
       "      <td>UNKNOWN</td>\n",
       "      <td>BLACK</td>\n",
       "      <td>M</td>\n",
       "      <td>25-44</td>\n",
       "      <td>BLACK</td>\n",
       "      <td>F</td>\n",
       "      <td>40.853355</td>\n",
       "      <td>-73.881668</td>\n",
       "      <td>(40.85335545600003, -73.88166837799997)</td>\n",
       "    </tr>\n",
       "    <tr>\n",
       "      <th>1</th>\n",
       "      <td>14.0</td>\n",
       "      <td>MANHATTAN</td>\n",
       "      <td>2019-06-25 00:00:00</td>\n",
       "      <td>2019-07-28 13:55:00</td>\n",
       "      <td>341</td>\n",
       "      <td>MISDEMEANOR</td>\n",
       "      <td>PETIT LARCENY</td>\n",
       "      <td>45-64</td>\n",
       "      <td>BLACK</td>\n",
       "      <td>M</td>\n",
       "      <td>UNKNOWN</td>\n",
       "      <td>UNKNOWN</td>\n",
       "      <td>D</td>\n",
       "      <td>40.750431</td>\n",
       "      <td>-73.989282</td>\n",
       "      <td>(40.75043076800005, -73.98928217599996)</td>\n",
       "    </tr>\n",
       "    <tr>\n",
       "      <th>2</th>\n",
       "      <td>18.0</td>\n",
       "      <td>MANHATTAN</td>\n",
       "      <td>2019-06-25 00:00:00</td>\n",
       "      <td>2019-07-28 13:20:00</td>\n",
       "      <td>344</td>\n",
       "      <td>MISDEMEANOR</td>\n",
       "      <td>ASSAULT 3 &amp; RELATED OFFENSES</td>\n",
       "      <td>NaN</td>\n",
       "      <td>NaN</td>\n",
       "      <td>NaN</td>\n",
       "      <td>45-64</td>\n",
       "      <td>WHITE</td>\n",
       "      <td>M</td>\n",
       "      <td>40.761677</td>\n",
       "      <td>-73.974917</td>\n",
       "      <td>(40.761676504000036, -73.97491700299997)</td>\n",
       "    </tr>\n",
       "    <tr>\n",
       "      <th>3</th>\n",
       "      <td>52.0</td>\n",
       "      <td>BRONX</td>\n",
       "      <td>2019-06-25 00:00:00</td>\n",
       "      <td>2019-07-28 13:20:00</td>\n",
       "      <td>104</td>\n",
       "      <td>FELONY</td>\n",
       "      <td>RAPE</td>\n",
       "      <td>45-64</td>\n",
       "      <td>BLACK HISPANIC</td>\n",
       "      <td>M</td>\n",
       "      <td>25-44</td>\n",
       "      <td>WHITE HISPANIC</td>\n",
       "      <td>F</td>\n",
       "      <td>40.869059</td>\n",
       "      <td>-73.879630</td>\n",
       "      <td>(40.86905853200005, -73.87963014799993)</td>\n",
       "    </tr>\n",
       "    <tr>\n",
       "      <th>4</th>\n",
       "      <td>19.0</td>\n",
       "      <td>MANHATTAN</td>\n",
       "      <td>2019-06-25 00:00:00</td>\n",
       "      <td>2019-07-28 13:20:00</td>\n",
       "      <td>578</td>\n",
       "      <td>VIOLATION</td>\n",
       "      <td>HARRASSMENT 2</td>\n",
       "      <td>25-44</td>\n",
       "      <td>BLACK</td>\n",
       "      <td>M</td>\n",
       "      <td>45-64</td>\n",
       "      <td>BLACK</td>\n",
       "      <td>M</td>\n",
       "      <td>40.783426</td>\n",
       "      <td>-73.949163</td>\n",
       "      <td>(40.78342557000008, -73.94916258199999)</td>\n",
       "    </tr>\n",
       "  </tbody>\n",
       "</table>\n",
       "</div>"
      ],
      "text/plain": [
       "   Address_precinct       Hood       Complaint_date       Complaint_time  \\\n",
       "0              48.0      BRONX  2019-06-25 00:00:00  2019-07-28 14:15:00   \n",
       "1              14.0  MANHATTAN  2019-06-25 00:00:00  2019-07-28 13:55:00   \n",
       "2              18.0  MANHATTAN  2019-06-25 00:00:00  2019-07-28 13:20:00   \n",
       "3              52.0      BRONX  2019-06-25 00:00:00  2019-07-28 13:20:00   \n",
       "4              19.0  MANHATTAN  2019-06-25 00:00:00  2019-07-28 13:20:00   \n",
       "\n",
       "   Key_code Offense_level                  Offense_desc Suspect_age  \\\n",
       "0       578     VIOLATION                 HARRASSMENT 2     UNKNOWN   \n",
       "1       341   MISDEMEANOR                 PETIT LARCENY       45-64   \n",
       "2       344   MISDEMEANOR  ASSAULT 3 & RELATED OFFENSES         NaN   \n",
       "3       104        FELONY                          RAPE       45-64   \n",
       "4       578     VIOLATION                 HARRASSMENT 2       25-44   \n",
       "\n",
       "     Suspect_race Suspect_sex Victim_age     Victim_race Victim_sex  \\\n",
       "0           BLACK           M      25-44           BLACK          F   \n",
       "1           BLACK           M    UNKNOWN         UNKNOWN          D   \n",
       "2             NaN         NaN      45-64           WHITE          M   \n",
       "3  BLACK HISPANIC           M      25-44  WHITE HISPANIC          F   \n",
       "4           BLACK           M      45-64           BLACK          M   \n",
       "\n",
       "    Latitude  Longitude                                   Lat_Lon  \n",
       "0  40.853355 -73.881668   (40.85335545600003, -73.88166837799997)  \n",
       "1  40.750431 -73.989282   (40.75043076800005, -73.98928217599996)  \n",
       "2  40.761677 -73.974917  (40.761676504000036, -73.97491700299997)  \n",
       "3  40.869059 -73.879630   (40.86905853200005, -73.87963014799993)  \n",
       "4  40.783426 -73.949163   (40.78342557000008, -73.94916258199999)  "
      ]
     },
     "execution_count": 45,
     "metadata": {},
     "output_type": "execute_result"
    }
   ],
   "source": [
    "complaints_hood.head()"
   ]
  },
  {
   "cell_type": "code",
   "execution_count": 23,
   "metadata": {},
   "outputs": [
    {
     "data": {
      "text/plain": [
       "array(['BRONX', 'MANHATTAN', 'BROOKLYN', 'QUEENS', 'STATEN ISLAND'],\n",
       "      dtype=object)"
      ]
     },
     "execution_count": 23,
     "metadata": {},
     "output_type": "execute_result"
    }
   ],
   "source": [
    "# Check it's been removed\n",
    "complaints_hood.Hood.unique()"
   ]
  },
  {
   "cell_type": "code",
   "execution_count": 41,
   "metadata": {},
   "outputs": [
    {
     "data": {
      "text/plain": [
       "<matplotlib.axes._subplots.AxesSubplot at 0x7f759f2c54a8>"
      ]
     },
     "execution_count": 41,
     "metadata": {},
     "output_type": "execute_result"
    },
    {
     "data": {
      "image/png": "[encoded data removed]",
      "text/plain": [
       "<Figure size 432x288 with 1 Axes>"
      ]
     },
     "metadata": {
      "needs_background": "light"
     },
     "output_type": "display_data"
    }
   ],
   "source": [
    "# Find out the distribution of complaints by neighbourhood\n",
    "sns.countplot(complaints_hood['Hood'])"
   ]
  },
  {
   "cell_type": "code",
   "execution_count": 67,
   "metadata": {},
   "outputs": [
    {
     "data": {
      "text/plain": [
       "<matplotlib.axes._subplots.AxesSubplot at 0x7f759eccf9e8>"
      ]
     },
     "execution_count": 67,
     "metadata": {},
     "output_type": "execute_result"
    },
    {
     "data": {
      "image/png": "[encoded data removed]",
      "text/plain": [
       "<Figure size 576x432 with 1 Axes>"
      ]
     },
     "metadata": {},
     "output_type": "display_data"
    }
   ],
   "source": [
    "# Order the plot in descending order and set the figure size\n",
    "sns.set(rc={'figure.figsize':(8,6)})\n",
    "sns.countplot(complaints_hood['Hood'], order=complaints_hood['Hood'].value_counts().index)"
   ]
  },
  {
   "cell_type": "code",
   "execution_count": 51,
   "metadata": {},
   "outputs": [],
   "source": [
    "# Let's drop the E and D from Victim_sex that correspond to Unkown victim information\n",
    "complaints_vict_sex = complaints[~complaints.Victim_sex.str.contains(\"E|D\")]"
   ]
  },
  {
   "cell_type": "code",
   "execution_count": 52,
   "metadata": {},
   "outputs": [
    {
     "data": {
      "text/plain": [
       "<matplotlib.axes._subplots.AxesSubplot at 0x7f759f1256a0>"
      ]
     },
     "execution_count": 52,
     "metadata": {},
     "output_type": "execute_result"
    },
    {
     "data": {
      "image/png": "[encoded data removed]",
      "text/plain": [
       "<Figure size 432x288 with 1 Axes>"
      ]
     },
     "metadata": {
      "needs_background": "light"
     },
     "output_type": "display_data"
    }
   ],
   "source": [
    "# Find out the distribution of complaints by victim sex\n",
    "sns.countplot(complaints_vict_sex['Victim_sex'])"
   ]
  },
  {
   "cell_type": "code",
   "execution_count": 62,
   "metadata": {},
   "outputs": [],
   "source": [
    "# Let's drop the Unknown info from Victim_race\n",
    "complaints_vict_race = complaints[~complaints.Victim_race.str.contains(\"UNKNOWN\")]"
   ]
  },
  {
   "cell_type": "code",
   "execution_count": 68,
   "metadata": {},
   "outputs": [
    {
     "data": {
      "text/plain": [
       "<matplotlib.axes._subplots.AxesSubplot at 0x7f759ecbcc50>"
      ]
     },
     "execution_count": 68,
     "metadata": {},
     "output_type": "execute_result"
    },
    {
     "data": {
      "image/png": "[encoded data removed]",
      "text/plain": [
       "<Figure size 1152x720 with 1 Axes>"
      ]
     },
     "metadata": {},
     "output_type": "display_data"
    }
   ],
   "source": [
    "# Find out the distribution of complaints by victim race\n",
    "# Is this the right result as we've been removing many UNKNOWNS => Standard deviation??\n",
    "sns.set(rc={'figure.figsize':(16,10)})\n",
    "sns.countplot(complaints_vict_race['Victim_race'], order=complaints_vict_race['Victim_race'].value_counts().index)"
   ]
  },
  {
   "cell_type": "code",
   "execution_count": null,
   "metadata": {},
   "outputs": [],
   "source": []
  },
  {
   "cell_type": "code",
   "execution_count": null,
   "metadata": {},
   "outputs": [],
   "source": []
  },
  {
   "cell_type": "code",
   "execution_count": null,
   "metadata": {},
   "outputs": [],
   "source": []
  },
  {
   "cell_type": "code",
   "execution_count": null,
   "metadata": {},
   "outputs": [],
   "source": []
  },
  {
   "cell_type": "code",
   "execution_count": null,
   "metadata": {},
   "outputs": [],
   "source": []
  },
  {
   "cell_type": "code",
   "execution_count": null,
   "metadata": {},
   "outputs": [],
   "source": []
  },
  {
   "cell_type": "code",
   "execution_count": 53,
   "metadata": {},
   "outputs": [
    {
     "data": {
      "text/plain": [
       "array(['BLACK', 'UNKNOWN', 'WHITE', 'WHITE HISPANIC', 'BLACK HISPANIC',\n",
       "       'ASIAN / PACIFIC ISLANDER', 'AMERICAN INDIAN/ALASKAN NATIVE'],\n",
       "      dtype=object)"
      ]
     },
     "execution_count": 53,
     "metadata": {},
     "output_type": "execute_result"
    }
   ],
   "source": [
    "complaints.Victim_race.unique()"
   ]
  },
  {
   "cell_type": "code",
   "execution_count": 32,
   "metadata": {},
   "outputs": [
    {
     "data": {
      "text/plain": [
       "array(['HARRASSMENT 2', 'PETIT LARCENY', 'ASSAULT 3 & RELATED OFFENSES',\n",
       "       'RAPE', 'VEHICLE AND TRAFFIC LAWS', 'ROBBERY', 'THEFT-FRAUD',\n",
       "       'BURGLARY', 'OFFENSES AGAINST PUBLIC ADMINI', 'DANGEROUS WEAPONS',\n",
       "       'GRAND LARCENY', 'CRIMINAL MISCHIEF & RELATED OF',\n",
       "       'FELONY ASSAULT', 'SEX CRIMES', 'FORGERY', 'CRIMINAL TRESPASS',\n",
       "       'FRAUDS', 'POSSESSION OF STOLEN PROPERTY', 'DANGEROUS DRUGS',\n",
       "       'GRAND LARCENY OF MOTOR VEHICLE', 'MISCELLANEOUS PENAL LAW',\n",
       "       'OFF. AGNST PUB ORD SENSBLTY &', 'UNAUTHORIZED USE OF A VEHICLE',\n",
       "       'MURDER & NON-NEGL. MANSLAUGHTER', \"BURGLAR'S TOOLS\",\n",
       "       'OFFENSES INVOLVING FRAUD', 'OFFENSES AGAINST THE PERSON',\n",
       "       'OTHER OFFENSES RELATED TO THEF', 'INTOXICATED & IMPAIRED DRIVING',\n",
       "       'FELONY SEX CRIMES', 'ADMINISTRATIVE CODE', 'ESCAPE 3',\n",
       "       'NYS LAWS-UNCLASSIFIED VIOLATION', 'ARSON',\n",
       "       'ALCOHOLIC BEVERAGE CONTROL LAW', 'GAMBLING', 'THEFT OF SERVICES',\n",
       "       'OTHER STATE LAWS (NON PENAL LA', 'NYS LAWS-UNCLASSIFIED FELONY',\n",
       "       'KIDNAPPING & RELATED OFFENSES', 'LOITERING/GAMBLING (CARDS, DIC',\n",
       "       'OFFENSES RELATED TO CHILDREN', 'INTOXICATED/IMPAIRED DRIVING',\n",
       "       'FRAUDULENT ACCOSTING', 'AGRICULTURE & MRKTS LAW-UNCLASSIFIED',\n",
       "       'PROSTITUTION & RELATED OFFENSES',\n",
       "       'PETIT LARCENY OF MOTOR VEHICLE', 'JOSTLING',\n",
       "       'CHILD ABANDONMENT/NON SUPPORT', 'DISORDERLY CONDUCT',\n",
       "       'KIDNAPPING', 'OFFENSES AGAINST PUBLIC SAFETY',\n",
       "       'ENDAN WELFARE INCOMP', 'HOMICIDE-NEGLIGENT-VEHICLE',\n",
       "       'KIDNAPPING AND RELATED OFFENSES', 'ANTICIPATORY OFFENSES',\n",
       "       'UNLAWFUL POSS. WEAP. ON SCHOOL', 'HOMICIDE-NEGLIGENT,UNCLASSIFIE',\n",
       "       nan, 'OTHER STATE LAWS', 'OTHER TRAFFIC INFRACTION',\n",
       "       'OTHER STATE LAWS (NON PENAL LAW)'], dtype=object)"
      ]
     },
     "execution_count": 32,
     "metadata": {},
     "output_type": "execute_result"
    }
   ],
   "source": [
    "complaints.Offense_desc.unique()"
   ]
  },
  {
   "cell_type": "code",
   "execution_count": 33,
   "metadata": {},
   "outputs": [
    {
     "data": {
      "text/plain": [
       "PETIT LARCENY                           41039\n",
       "HARRASSMENT 2                           35048\n",
       "ASSAULT 3 & RELATED OFFENSES            26246\n",
       "CRIMINAL MISCHIEF & RELATED OF          22801\n",
       "GRAND LARCENY                           19823\n",
       "OFF. AGNST PUB ORD SENSBLTY &           10099\n",
       "FELONY ASSAULT                           9800\n",
       "MISCELLANEOUS PENAL LAW                  7085\n",
       "DANGEROUS DRUGS                          6568\n",
       "ROBBERY                                  5824\n",
       "BURGLARY                                 4824\n",
       "OFFENSES AGAINST PUBLIC ADMINI           3796\n",
       "SEX CRIMES                               3769\n",
       "DANGEROUS WEAPONS                        3669\n",
       "VEHICLE AND TRAFFIC LAWS                 3212\n",
       "FORGERY                                  2703\n",
       "INTOXICATED & IMPAIRED DRIVING           2350\n",
       "GRAND LARCENY OF MOTOR VEHICLE           2157\n",
       "THEFT-FRAUD                              1992\n",
       "CRIMINAL TRESPASS                        1646\n",
       "FRAUDS                                   1229\n",
       "RAPE                                      874\n",
       "UNAUTHORIZED USE OF A VEHICLE             738\n",
       "POSSESSION OF STOLEN PROPERTY             730\n",
       "OTHER OFFENSES RELATED TO THEF            679\n",
       "OFFENSES AGAINST THE PERSON               654\n",
       "OFFENSES INVOLVING FRAUD                  598\n",
       "ADMINISTRATIVE CODE                       501\n",
       "NYS LAWS-UNCLASSIFIED FELONY              378\n",
       "ARSON                                     318\n",
       "                                        ...  \n",
       "BURGLAR'S TOOLS                           158\n",
       "GAMBLING                                  143\n",
       "OTHER STATE LAWS (NON PENAL LA            139\n",
       "MURDER & NON-NEGL. MANSLAUGHTER           137\n",
       "FRAUDULENT ACCOSTING                       78\n",
       "AGRICULTURE & MRKTS LAW-UNCLASSIFIED       61\n",
       "ALCOHOLIC BEVERAGE CONTROL LAW             60\n",
       "KIDNAPPING & RELATED OFFENSES              58\n",
       "OFFENSES RELATED TO CHILDREN               36\n",
       "PETIT LARCENY OF MOTOR VEHICLE             34\n",
       "PROSTITUTION & RELATED OFFENSES            34\n",
       "OFFENSES AGAINST PUBLIC SAFETY             21\n",
       "DISORDERLY CONDUCT                         19\n",
       "JOSTLING                                   13\n",
       "ENDAN WELFARE INCOMP                        9\n",
       "ESCAPE 3                                    7\n",
       "NYS LAWS-UNCLASSIFIED VIOLATION             7\n",
       "OTHER STATE LAWS                            5\n",
       "KIDNAPPING                                  5\n",
       "CHILD ABANDONMENT/NON SUPPORT               4\n",
       "LOITERING/GAMBLING (CARDS, DIC              3\n",
       "ANTICIPATORY OFFENSES                       3\n",
       "UNLAWFUL POSS. WEAP. ON SCHOOL              3\n",
       "HOMICIDE-NEGLIGENT-VEHICLE                  2\n",
       "FELONY SEX CRIMES                           2\n",
       "INTOXICATED/IMPAIRED DRIVING                2\n",
       "OTHER STATE LAWS (NON PENAL LAW)            1\n",
       "KIDNAPPING AND RELATED OFFENSES             1\n",
       "OTHER TRAFFIC INFRACTION                    1\n",
       "HOMICIDE-NEGLIGENT,UNCLASSIFIE              1\n",
       "Name: Offense_desc, Length: 61, dtype: int64"
      ]
     },
     "execution_count": 33,
     "metadata": {},
     "output_type": "execute_result"
    }
   ],
   "source": [
    "complaints[\"Offense_desc\"].value_counts()"
   ]
  },
  {
   "cell_type": "code",
   "execution_count": null,
   "metadata": {},
   "outputs": [],
   "source": []
  },
  {
   "cell_type": "code",
   "execution_count": null,
   "metadata": {},
   "outputs": [],
   "source": []
  },
  {
   "cell_type": "code",
   "execution_count": null,
   "metadata": {},
   "outputs": [],
   "source": []
  },
  {
   "cell_type": "code",
   "execution_count": null,
   "metadata": {},
   "outputs": [],
   "source": []
  },
  {
   "cell_type": "code",
   "execution_count": null,
   "metadata": {},
   "outputs": [],
   "source": []
  },
  {
   "cell_type": "code",
   "execution_count": null,
   "metadata": {},
   "outputs": [],
   "source": []
  },
  {
   "cell_type": "code",
   "execution_count": null,
   "metadata": {},
   "outputs": [],
   "source": []
  }
 ],
 "metadata": {
  "kernelspec": {
   "display_name": "Python 3",
   "language": "python",
   "name": "python3"
  },
  "language_info": {
   "codemirror_mode": {
    "name": "ipython",
    "version": 3
   },
   "file_extension": ".py",
   "mimetype": "text/x-python",
   "name": "python",
   "nbconvert_exporter": "python",
   "pygments_lexer": "ipython3",
   "version": "3.7.3"
  }
 },
 "nbformat": 4,
 "nbformat_minor": 2
}
